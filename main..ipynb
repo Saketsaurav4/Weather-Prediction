{
 "cells": [
  {
   "cell_type": "code",
   "execution_count": 2,
   "metadata": {},
   "outputs": [],
   "source": [
    "import pandas as pd\n",
    "from neuralprophet import NeuralProphet\n",
    "from matplotlib import pyplot as plt"
   ]
  },
  {
   "cell_type": "markdown",
   "metadata": {},
   "source": [
    "pandas is a powerful data manipulation library.\n",
    "\n",
    "NeuralProphet is a forecasting tool based on neural networks.\n",
    "\n",
    "matplotlib.pyplot is used for plotting graphs."
   ]
  },
  {
   "cell_type": "markdown",
   "metadata": {},
   "source": [
    "1. Read in Data and Process Dates"
   ]
  },
  {
   "cell_type": "code",
   "execution_count": null,
   "metadata": {},
   "outputs": [],
   "source": [
    "df = pd.read_csv('weatherAUS.csv')\n",
    "df.head()"
   ]
  },
  {
   "cell_type": "markdown",
   "metadata": {},
   "source": [
    "This line uses the pandas library to read a CSV file named weatherAUS.csv and load its contents into a DataFrame called df.\n",
    "\n",
    "The read_csv function reads the file and converts it into a DataFrame, which is a table-like data structure in pandas."
   ]
  },
  {
   "cell_type": "code",
   "execution_count": null,
   "metadata": {},
   "outputs": [],
   "source": [
    "df.Location.unique()"
   ]
  },
  {
   "cell_type": "markdown",
   "metadata": {},
   "source": [
    "The code df.Location.unique() is used to find all the unique values in the Location column of your DataFrame df. This is helpful to see all the different locations for which you have weather data in your dataset."
   ]
  },
  {
   "cell_type": "code",
   "execution_count": null,
   "metadata": {},
   "outputs": [],
   "source": [
    "df.columns"
   ]
  },
  {
   "cell_type": "markdown",
   "metadata": {},
   "source": [
    "The code df.columns returns the column labels of the DataFrame df. This is useful for quickly seeing all the column names in your dataset."
   ]
  },
  {
   "cell_type": "code",
   "execution_count": null,
   "metadata": {},
   "outputs": [],
   "source": [
    "df.dtypes"
   ]
  },
  {
   "cell_type": "markdown",
   "metadata": {},
   "source": [
    "The code df.dtypes returns the data types of each column in the DataFrame df. This is useful for understanding the kind of data stored in each column, which can help in data cleaning and preprocessing."
   ]
  },
  {
   "cell_type": "code",
   "execution_count": null,
   "metadata": {},
   "outputs": [],
   "source": [
    "melb = df[df['Location']=='Melbourne']\n",
    "melb['Date'] = pd.to_datetime(melb['Date'])\n",
    "melb.head()"
   ]
  },
  {
   "cell_type": "markdown",
   "metadata": {},
   "source": [
    "1.Filtering the DataFrame\n",
    "\n",
    "This line filters the DataFrame df to include only the rows where the Location column is ‘Melbourne’.\n",
    "\n",
    "The result is stored in a new DataFrame called melb.\n",
    "\n",
    "2.Converting the ‘Date’ Column to Datetime\n",
    "\n",
    "This line converts the ‘Date’ column in the melb DataFrame from a string format to a datetime format using pd.to_datetime().\n",
    "\n",
    "This conversion is essential for performing time series analysis and operations on the date data."
   ]
  },
  {
   "cell_type": "code",
   "execution_count": null,
   "metadata": {},
   "outputs": [],
   "source": [
    "melb.dtypes"
   ]
  },
  {
   "cell_type": "markdown",
   "metadata": {},
   "source": [
    "Running the code melb.dtypes will return the data types of each column in the melb DataFrame. \n",
    "\n",
    "This is useful for verifying that the ‘Date’ column has been successfully converted to a datetime format and for understanding the types of data in each column."
   ]
  },
  {
   "cell_type": "code",
   "execution_count": null,
   "metadata": {},
   "outputs": [],
   "source": [
    "plt.plot(melb['Date'], melb['Temp3pm'])\n",
    "plt.show()"
   ]
  },
  {
   "cell_type": "markdown",
   "metadata": {},
   "source": [
    "1.Plotting the Data\n",
    "\n",
    "This line uses matplotlib.pyplot to create a line plot.\n",
    "\n",
    "melb['Date'] is used for the x-axis, representing the dates.\n",
    "\n",
    "melb['Temp3pm'] is used for the y-axis, representing the temperature recorded at 3 PM.\n",
    "\n",
    "The plot will show how the temperature at 3 PM varies over time in Melbourne. It helps visualize trends, patterns, and anomalies in the temperature data.\n"
   ]
  },
  {
   "cell_type": "code",
   "execution_count": null,
   "metadata": {},
   "outputs": [],
   "source": [
    "melb['Year'] = melb['Date'].apply(lambda x: x.year)\n",
    "melb = melb[melb['Year']<=2015]\n",
    "plt.plot(melb['Date'], melb['Temp3pm'])\n",
    "plt.show()"
   ]
  },
  {
   "cell_type": "markdown",
   "metadata": {},
   "source": [
    "1.Extracting the Year from the Date\n",
    "\n",
    "This line creates a new column ‘Year’ in the melb DataFrame.\n",
    "\n",
    "It uses the apply method with a lambda function to extract the year from each date in the ‘Date’ column.\n",
    "\n",
    "2.Filtering the DataFrame\n",
    "\n",
    "This line filters the melb DataFrame to include only the rows where the ‘Year’ is less than or equal to 2015.\n",
    "\n",
    "This is useful for focusing on data up to the year 2015.\n",
    "\n",
    "3.Plotting the Data:\n",
    "\n",
    "This creates a line plot with ‘Date’ on the x-axis and ‘Temp3pm’ (temperature at 3 PM) on the y-axis.\n",
    "\n",
    "The plot will show how the temperature at 3 PM in Melbourne varies over time, up to the year 2015. This can help visualize trends and patterns in the temperature data.\n"
   ]
  },
  {
   "cell_type": "code",
   "execution_count": null,
   "metadata": {},
   "outputs": [],
   "source": [
    "melb.tail()"
   ]
  },
  {
   "cell_type": "markdown",
   "metadata": {},
   "source": [
    "The code melb.tail() returns the last five rows of the melb DataFrame by default."
   ]
  },
  {
   "cell_type": "code",
   "execution_count": null,
   "metadata": {},
   "outputs": [],
   "source": [
    "data = melb[['Date', 'Temp3pm']] \n",
    "data.dropna(inplace=True)\n",
    "data.columns = ['ds', 'y'] \n",
    "data.head()"
   ]
  },
  {
   "cell_type": "markdown",
   "metadata": {},
   "source": [
    "1.Selecting Specific Columns\n",
    "\n",
    "This line creates a new DataFrame data containing only the ‘Date’ and ‘Temp3pm’ columns from the melb DataFrame.\n",
    "\n",
    "2.Dropping Missing Values\n",
    "\n",
    "This line removes any rows in the data DataFrame that contain missing values (NaN).\n",
    "\n",
    "The inplace=True parameter ensures that the operation is performed directly on the data DataFrame without creating a copy.\n",
    "\n",
    "3.Renaming Columns\n",
    "\n",
    "This line renames the columns of the data DataFrame to ‘ds’ and ‘y’.\n",
    "\n",
    "‘ds’ typically stands for ‘datestamp’ and ‘y’ for the target variable, which is common in time series forecasting.\n",
    "\n"
   ]
  },
  {
   "cell_type": "code",
   "execution_count": null,
   "metadata": {},
   "outputs": [],
   "source": [
    "data"
   ]
  },
  {
   "cell_type": "markdown",
   "metadata": {},
   "source": [
    "\n",
    "2. Train Model"
   ]
  },
  {
   "cell_type": "code",
   "execution_count": 61,
   "metadata": {},
   "outputs": [],
   "source": [
    "m = NeuralProphet()"
   ]
  },
  {
   "cell_type": "markdown",
   "metadata": {},
   "source": [
    "we've initialized a NeuralProphet model with the line.\n",
    "\n",
    "This creates an instance of the NeuralProphet model, which we can now use to fit your data and make predictions. "
   ]
  },
  {
   "cell_type": "code",
   "execution_count": null,
   "metadata": {},
   "outputs": [],
   "source": [
    "model = m.fit(data, freq='D', epochs=1000)"
   ]
  },
  {
   "cell_type": "markdown",
   "metadata": {},
   "source": [
    "Fitting the Model with Specified Epochs:\n",
    "\n",
    "This fits the NeuralProphet model to our data DataFrame.\n",
    "\n",
    "freq='D' specifies that the data frequency is daily.\n",
    "\n",
    "epochs=1000 means the model will train for 1000 iterations over the dataset, which can help improve the model’s performance by allowing it to learn more from the data.\n"
   ]
  },
  {
   "cell_type": "markdown",
   "metadata": {},
   "source": [
    "3. Forecast Away"
   ]
  },
  {
   "cell_type": "code",
   "execution_count": null,
   "metadata": {},
   "outputs": [],
   "source": [
    "future = m.make_future_dataframe(data, periods=900)\n",
    "forecast = m.predict(future)\n",
    "forecast.head()"
   ]
  },
  {
   "cell_type": "markdown",
   "metadata": {},
   "source": [
    "1.Creating a Future DataFrame\n",
    "\n",
    "This line creates a DataFrame future that extends the original data DataFrame by 900 periods (days in this case).\n",
    "\n",
    "This is used to generate future dates for which we want to make predictions.\n",
    "\n",
    "2.Making Predictions\n",
    "\n",
    "This line uses the NeuralProphet model m to predict future values based on the future DataFrame.\n",
    "\n",
    "The forecast DataFrame will contain the predicted values along with the corresponding dates.\n"
   ]
  },
  {
   "cell_type": "code",
   "execution_count": null,
   "metadata": {},
   "outputs": [],
   "source": [
    "forecast.tail()"
   ]
  },
  {
   "cell_type": "code",
   "execution_count": null,
   "metadata": {},
   "outputs": [],
   "source": [
    "plot1 = m.plot(forecast)"
   ]
  },
  {
   "cell_type": "markdown",
   "metadata": {},
   "source": [
    "Plotting the Forecas\n",
    "\n",
    "This line creates a plot of the forecasted values stored in the forecast DataFrame.\n",
    "\n",
    "The plot typically includes the historical data, the forecasted values, and the confidence intervals.\n"
   ]
  },
  {
   "cell_type": "code",
   "execution_count": null,
   "metadata": {},
   "outputs": [],
   "source": [
    "plot2 = m.plot_components(forecast)"
   ]
  },
  {
   "cell_type": "markdown",
   "metadata": {},
   "source": [
    "This line creates a series of plots that show the different components of the forecast.\n",
    "\n",
    "These components typically include the overall trend, daily seasonality, weekly seasonality, and any other seasonal patterns or holidays that the model has identified."
   ]
  },
  {
   "cell_type": "markdown",
   "metadata": {},
   "source": []
  }
 ],
 "metadata": {
  "kernelspec": {
   "display_name": "Python 3",
   "language": "python",
   "name": "python3"
  },
  "language_info": {
   "codemirror_mode": {
    "name": "ipython",
    "version": 3
   },
   "file_extension": ".py",
   "mimetype": "text/x-python",
   "name": "python",
   "nbconvert_exporter": "python",
   "pygments_lexer": "ipython3",
   "version": "3.12.3"
  }
 },
 "nbformat": 4,
 "nbformat_minor": 2
}
